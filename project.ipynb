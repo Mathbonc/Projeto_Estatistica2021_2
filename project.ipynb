{
  "cells": [
    {
      "cell_type": "code",
      "execution_count": 1,
      "metadata": {
        "colab": {
          "base_uri": "https://localhost:8080/"
        },
        "id": "irE57np3VzoE",
        "outputId": "f08ca4d1-7230-4214-aabe-1768ba543676"
      },
      "outputs": [
        {
          "name": "stdout",
          "output_type": "stream",
          "text": [
            "Collecting tabulate\n",
            "  Downloading tabulate-0.8.9-py3-none-any.whl (25 kB)\n",
            "Installing collected packages: tabulate\n",
            "Successfully installed tabulate-0.8.9\n",
            "Note: you may need to restart the kernel to use updated packages.\n"
          ]
        }
      ],
      "source": [
        "# Installing External Dependencies\n",
        "# Se estiver rodando no vscode, trocar ! por %\n",
        "%pip install tabulate\n"
      ]
    },
    {
      "cell_type": "code",
      "execution_count": 31,
      "metadata": {
        "id": "hzKJj3zqO1jr"
      },
      "outputs": [],
      "source": [
        "# Imports\n",
        "\n",
        "import numpy as np\n",
        "import matplotlib.pyplot as plt\n",
        "from tabulate import tabulate as tab\n"
      ]
    },
    {
      "cell_type": "code",
      "execution_count": 32,
      "metadata": {
        "id": "9Ey6F-LlSULZ"
      },
      "outputs": [],
      "source": [
        "# Utility Functions\n",
        "\n",
        "def parseToNum(num_string):\n",
        "    if (num_string) and ('.' in num_string) and (not '?' in num_string):\n",
        "        return float(num_string)\n",
        "    elif (num_string) and (not '?' in num_string):\n",
        "        return int(num_string)\n",
        "    elif num_string == '?':\n",
        "      return -1\n",
        "\n",
        "def is_lvdd_abnormal(lvdd):\n",
        "  return 5.9 <= lvdd < 6.8\n",
        "\n",
        "def is_epss_abnormal(lvdd):\n",
        "  return lvdd > 7\n"
      ]
    },
    {
      "cell_type": "code",
      "execution_count": null,
      "metadata": {
        "id": "na0Hfx1LUSMi"
      },
      "outputs": [],
      "source": [
        "# Getting and parsing the data sample\n",
        "\n",
        "data_file = open('./echocardiogram.data', 'r')\n",
        "file_lines = data_file.readlines() # le as linhas e as guarda em uma lista\n",
        "\n",
        "cleared_data = []\n",
        "total_records = len(file_lines)\n",
        "\n",
        "# Processing the data\n",
        "for lineIndex in range(len(file_lines)):\n",
        "    line = file_lines[lineIndex].split(',')\n",
        "\n",
        "    line[0] = parseToNum(line[0])\n",
        "    line[1] = parseToNum(line[1])\n",
        "    line[5] = parseToNum(line[5])\n",
        "    line[6] = parseToNum(line[6])\n",
        "\n",
        "    cleared_data.append([line[0], line[1], line[5], line[6]])\n",
        "\n",
        "# Creating Table\n",
        "table = tab(cleared_data, \n",
        "            headers = [\"Survival Time\", \"is Alive\", \"EPSS\", \"LVDD\"], \n",
        "            showindex = \"always\",\n",
        "            tablefmt=\"github\",\n",
        "            numalign=\"center\")\n",
        "\n",
        "print(table)"
      ]
    },
    {
      "cell_type": "markdown",
      "metadata": {
        "id": "KB3xoVXD0ojf"
      },
      "source": [
        "## **Primeira Análise**"
      ]
    },
    {
      "cell_type": "markdown",
      "metadata": {
        "id": "-iehsI2hbQdq"
      },
      "source": [
        "Agora que temos os dados que serão usados agrupados em uma tabela, podemos trabalhar com eles. Primeiro, uma observação, os dados inexistentes referentes as colunas das tabelas serão representados por um **-1**. Isso irá facilitar ao excluir a linha da análise, bem como ficar fácil de visualizar a inexistência desse dado.\n",
        "\n",
        "A nossa análise será a seguinte:\n",
        "\n",
        "\n",
        "> Dado que o indivíduo sofreu um ataque cardíaco, qual a probabilidade que ele tenha níveis anormais de LVDD e EPSS\n",
        "\n",
        "Isso nos permite ter uma noção da relação entre essas medidas e a ocorrência de ataques cardíacos em indvíduos, já que possuimos uma amostra aleatória com vários dados. Sabemos que um EPSS acima de 7mm, segundo o relatório entregue, indica que um indivíduo possui uma fação de ejeção do ventrículo esquerdo baixa, o que causa um acumulo de pressão nele, podendo gerar um ataque cardíaco.\n",
        "\n",
        "Quanto ao LVDD, taxas altas de LVDD, no range **5.9 <= lvdd < 6.8**, indica a presença de corações doentes, segundo a própria base de dados.\n"
      ]
    },
    {
      "cell_type": "code",
      "execution_count": 38,
      "metadata": {
        "colab": {
          "base_uri": "https://localhost:8080/"
        },
        "id": "bRmE_c2Og-qT",
        "outputId": "3bdd6281-3333-4baf-aa68-23d18dc94d90"
      },
      "outputs": [
        {
          "name": "stdout",
          "output_type": "stream",
          "text": [
            "1 77 9\n",
            "0.007575757575757576\n",
            "0.5833333333333334\n",
            "0.06818181818181818\n"
          ]
        }
      ],
      "source": [
        "abnormal_lvdd_amount = 0\n",
        "abnormal_epss_amount = 0\n",
        "abnormal_epss_and_lvdd = 0\n",
        "\n",
        "# Looping the data list\n",
        "\n",
        "for survival, isAlive, epss, lvdd in cleared_data:\n",
        "  if is_lvdd_abnormal(lvdd) and not is_epss_abnormal(epss):\n",
        "    abnormal_lvdd_amount = abnormal_lvdd_amount + 1\n",
        "  elif is_epss_abnormal(epss) and not is_lvdd_abnormal(lvdd):\n",
        "    abnormal_epss_amount = abnormal_epss_amount + 1\n",
        "  elif is_epss_abnormal(epss) and is_lvdd_abnormal(lvdd):\n",
        "    abnormal_epss_and_lvdd = abnormal_epss_and_lvdd + 1\n",
        "\n",
        "# Para uma pessoa com apenas niveis anormais de LVDD, a chance de ataque card\n",
        "print(abnormal_lvdd_amount / total_records)\n",
        "\n",
        "# Para uma pessoa com apenas niveis anormais de EPSS, a chance de ataque card\n",
        "print(abnormal_epss_amount / total_records)\n",
        "\n",
        "# Para uma pessoa com niveis anormais de EPSS e LVDD ao mesmo tempo, a chance de ataque card\n",
        "print(abnormal_epss_and_lvdd / total_records)\n"
      ]
    },
    {
      "cell_type": "markdown",
      "metadata": {
        "id": "Nb8Q-EFYzyj_"
      },
      "source": [
        "A partir dos valores obtidos, vemos que a ocorrência de ataques cardíacos tem uma relação maior com níveis elevados de EPSS, chegando em torno de 58,34% a chance de alguém que sofreu um evento desse possuir taxas acima dos 7mm (o nível anormal)."
      ]
    },
    {
      "cell_type": "markdown",
      "metadata": {
        "id": "vubQvKNZ03h4"
      },
      "source": [
        "## **Segunda Análise**"
      ]
    },
    {
      "cell_type": "markdown",
      "metadata": {},
      "source": [
        "Uma segunda análise permite, a partir dos dados, realizar um teste de hipóteses com a proposta de, com essa amostra, provar se uma pessoa vai ou não morrer devido à um segundo ataque cardíco dentro de ano após o primeiro."
      ]
    },
    {
      "cell_type": "markdown",
      "metadata": {},
      "source": [
        "\n",
        "\n"
      ]
    }
  ],
  "metadata": {
    "colab": {
      "collapsed_sections": [],
      "name": "project.ipynb",
      "provenance": []
    },
    "interpreter": {
      "hash": "31f2aee4e71d21fbe5cf8b01ff0e069b9275f58929596ceb00d14d90e3e16cd6"
    },
    "kernelspec": {
      "display_name": "Python 3.8.9 64-bit",
      "language": "python",
      "name": "python3"
    },
    "language_info": {
      "codemirror_mode": {
        "name": "ipython",
        "version": 3
      },
      "file_extension": ".py",
      "mimetype": "text/x-python",
      "name": "python",
      "nbconvert_exporter": "python",
      "pygments_lexer": "ipython3",
      "version": "3.8.10"
    },
    "orig_nbformat": 4
  },
  "nbformat": 4,
  "nbformat_minor": 0
}
